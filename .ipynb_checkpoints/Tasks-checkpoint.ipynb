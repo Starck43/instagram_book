{
 "cells": [
  {
   "cell_type": "markdown",
   "id": "bbb0c38d",
   "metadata": {},
   "source": [
    "# strings"
   ]
  },
  {
   "cell_type": "code",
   "execution_count": 354,
   "id": "31f68de4",
   "metadata": {},
   "outputs": [
    {
     "name": "stdout",
     "output_type": "stream",
     "text": [
      "yM emaN si asseJ\n",
      "yM emaN si asseJ\n"
     ]
    }
   ],
   "source": [
    "str = 'My Name is Jessa'\n",
    "\n",
    "new_word_list = list( map(lambda x: list(reversed(x)) , str.split() ))\n",
    "print(\" \".join([\"\".join(s) for s in new_word_list]))\n",
    "\n",
    "#or\n",
    "\n",
    "# iterate list and reverse each word using ::-1\n",
    "new_word_list = [word[::-1] for word in str.split()]\n",
    "\n",
    "# Joining the new list of words\n",
    "print(\" \".join(new_word_list))"
   ]
  },
  {
   "cell_type": "markdown",
   "id": "5c8bceba",
   "metadata": {},
   "source": [
    "# sort function"
   ]
  },
  {
   "cell_type": "code",
   "execution_count": 15,
   "id": "17f26603",
   "metadata": {},
   "outputs": [
    {
     "name": "stdout",
     "output_type": "stream",
     "text": [
      "[1, 2, 4, 5]\n"
     ]
    }
   ],
   "source": [
    "numbers = [2, -3, 4, 5.2, 1, 5, 'a']\n",
    "res = sorted( n for n in numbers if isinstance(n, int) and n >=0 )\n",
    "print(res)"
   ]
  },
  {
   "cell_type": "markdown",
   "id": "aece66d8",
   "metadata": {},
   "source": [
    "# replace symbols with capitalize"
   ]
  },
  {
   "cell_type": "code",
   "execution_count": 55,
   "id": "93f6e141",
   "metadata": {},
   "outputs": [
    {
     "name": "stdout",
     "output_type": "stream",
     "text": [
      "NickName\n"
     ]
    }
   ],
   "source": [
    "\n",
    "s = \"nick_name\"\n",
    "res = s.title().translate(s.maketrans(\"\", \"\", \"-_\"))\n",
    "print(res)"
   ]
  },
  {
   "cell_type": "markdown",
   "id": "562b3020",
   "metadata": {},
   "source": [
    "# sorting"
   ]
  },
  {
   "cell_type": "code",
   "execution_count": 89,
   "id": "bf76629f",
   "metadata": {},
   "outputs": [
    {
     "name": "stdout",
     "output_type": "stream",
     "text": [
      "did Thi1s is2 3a T4est\n",
      "Thi1s is2 3a T4est did\n"
     ]
    }
   ],
   "source": [
    "s = \"is2 Thi1s T4est 3a did\"\n",
    "\n",
    "arr = sorted(s.split(), key=lambda e: [s for s in e if s.isnumeric()])\n",
    "print (\" \".join(arr))\n",
    "#or\n",
    "arr = sorted(s.split(), key=lambda e: sorted(e))\n",
    "print (\" \".join(arr))"
   ]
  },
  {
   "cell_type": "markdown",
   "id": "43b8e5d7",
   "metadata": {},
   "source": [
    "# objects"
   ]
  },
  {
   "cell_type": "code",
   "execution_count": 133,
   "id": "fcd904d4",
   "metadata": {},
   "outputs": [
    {
     "name": "stdout",
     "output_type": "stream",
     "text": [
      "2\n",
      "2\n"
     ]
    }
   ],
   "source": [
    "r = {\"flour\": 500, \"sugar\": 200, \"eggs\": 1}\n",
    "a = {\"flour\": 1200, \"sugar\": 1200, \"eggs\": 5, \"milk\": 200}\n",
    "d = (set(r) & set(a))\n",
    "m = min(a[k] // r[k] for k in d) if len(d) == len(r) else 0\n",
    "print(m)\n",
    "# or\n",
    "m = min(a.get(k, 0)//r[k] for k in r)\n",
    "print(m)"
   ]
  },
  {
   "cell_type": "markdown",
   "id": "9650df23",
   "metadata": {},
   "source": [
    "# calculator"
   ]
  },
  {
   "cell_type": "code",
   "execution_count": 255,
   "id": "e57d0351",
   "metadata": {},
   "outputs": [
    {
     "name": "stdout",
     "output_type": "stream",
     "text": [
      "result: 2\n",
      "result: 2\n"
     ]
    }
   ],
   "source": [
    "def zero(v=0): return v.__call__(0) if hasattr(v, '__call__') else v\n",
    "def one(v=1): return v.__call__(1) if hasattr(v, '__call__') else v\n",
    "def two(v=2): return v.__call__(2) if hasattr(v, '__call__') else v\n",
    "def three(v=3): return v.__call__(3) if hasattr(v, '__call__') else v\n",
    "def four(v=4): return v.__call__(4) if hasattr(v, '__call__') else v\n",
    "def five(v=5): return v.__call__(5) if hasattr(v, '__call__') else v\n",
    "def six(v=6): return v.__call__(6) if hasattr(v, '__call__') else v\n",
    "def seven(v=7): return v.__call__(7) if hasattr(v, '__call__') else v\n",
    "def eight(v=8): return v.__call__(8) if hasattr(v, '__call__') else v\n",
    "def nine(v=9): return v.__call__(9) if hasattr(v, '__call__') else v\n",
    "\n",
    "def plus(v): return v.__radd__\n",
    "def minus(v): return v.__rsub__\n",
    "def times(v): return v.__rmul__\n",
    "def divided_by(v): return v.__rfloordiv__\n",
    "\n",
    "print('result:', two(divided_by(one())))\n",
    "\n",
    "# or\n",
    "\n",
    "# Number function generator\n",
    "def func(n): return lambda f=None: f(n) if f else n\n",
    "\n",
    "zero, one, two, three, four, five, six, seven, eight, nine = map(func, range(10))\n",
    "\n",
    "def plus(y): return lambda x: x+y\n",
    "def minus(y): return lambda x: x-y\n",
    "def times(y): return lambda x: x*y\n",
    "def divided_by(y): return lambda x: x//y\n",
    "\n",
    "print('result:', two(divided_by(one())))\n"
   ]
  },
  {
   "cell_type": "markdown",
   "id": "090fc3ec",
   "metadata": {},
   "source": [
    "# number's digits"
   ]
  },
  {
   "cell_type": "code",
   "execution_count": 273,
   "id": "16312d08",
   "metadata": {},
   "outputs": [
    {
     "name": "stdout",
     "output_type": "stream",
     "text": [
      "9\n",
      "9\n",
      "9\n"
     ]
    }
   ],
   "source": [
    "number = 9\n",
    "def digital_root(n):\n",
    "    string_number = str(n)\n",
    "\n",
    "    while len(string_number) > 1:\n",
    "        string_number = str(sum(int(d) for d in string_number))\n",
    "    return int(string_number)  \n",
    "\n",
    "print(digital_root(number))\n",
    "\n",
    "# or\n",
    "\n",
    "# recursion\n",
    "def digital_root(n):\n",
    "    return n if n < 10 else digital_root(sum(map(int,str(n))))\n",
    "\n",
    "print(digital_root(number))\n",
    "\n",
    "# or\n",
    "\n",
    "def digital_root(n):\n",
    "    return n%9 or 9\n",
    "\n",
    "print(digital_root(number))"
   ]
  },
  {
   "cell_type": "markdown",
   "id": "5952c998",
   "metadata": {},
   "source": [
    "# Recursion"
   ]
  },
  {
   "cell_type": "code",
   "execution_count": 318,
   "id": "64ff1d8f",
   "metadata": {},
   "outputs": [
    {
     "name": "stdout",
     "output_type": "stream",
     "text": [
      "n: 2 memo: {2: 1}\n",
      "n: 3 memo: {2: 1, 3: 2}\n",
      "cached 2 = 1\n",
      "n: 2 memo: {2: 1, 3: 2}\n",
      "n: 4 memo: {2: 1, 3: 2, 4: 3}\n",
      "cached 3 = 2\n",
      "n: 3 memo: {2: 1, 3: 2, 4: 3}\n",
      "n: 5 memo: {2: 1, 3: 2, 4: 3, 5: 5}\n",
      "cached 4 = 3\n",
      "n: 4 memo: {2: 1, 3: 2, 4: 3, 5: 5}\n",
      "n: 6 memo: {2: 1, 3: 2, 4: 3, 5: 5, 6: 8}\n",
      "8\n"
     ]
    }
   ],
   "source": [
    "def fibonacci(n, memo={}):\n",
    "\n",
    "    if n in [0, 1]:\n",
    "        return n\n",
    "    res = memo.get(n, None)\n",
    "    if res == None:\n",
    "        memo[n] = fibonacci(n - 1, memo) + fibonacci(n - 2, memo)\n",
    "    return memo[n]\n",
    "\n",
    "print(fibonacci(6))\n"
   ]
  },
  {
   "cell_type": "markdown",
   "id": "27b85bb1",
   "metadata": {},
   "source": [
    "# files"
   ]
  },
  {
   "cell_type": "code",
   "execution_count": null,
   "id": "9900cb1a",
   "metadata": {},
   "outputs": [],
   "source": [
    "open('sample.txt','r') as f:\n",
    "    "
   ]
  }
 ],
 "metadata": {
  "kernelspec": {
   "display_name": "Python 3",
   "language": "python",
   "name": "python3"
  },
  "language_info": {
   "codemirror_mode": {
    "name": "ipython",
    "version": 3
   },
   "file_extension": ".py",
   "mimetype": "text/x-python",
   "name": "python",
   "nbconvert_exporter": "python",
   "pygments_lexer": "ipython3",
   "version": "3.8.8"
  }
 },
 "nbformat": 4,
 "nbformat_minor": 5
}
