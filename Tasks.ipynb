{
 "cells": [
  {
   "cell_type": "markdown",
   "id": "aa7a86ef",
   "metadata": {},
   "source": [
    "# array"
   ]
  },
  {
   "cell_type": "code",
   "execution_count": 371,
   "id": "64a704a5",
   "metadata": {},
   "outputs": [
    {
     "name": "stdout",
     "output_type": "stream",
     "text": [
      "[10, 20, 30, 40, 50]\n"
     ]
    }
   ],
   "source": [
    "# delete elements > 50\n",
    "number_list = [10, 20, 30, 40, 50, 60, 70, 80, 90, 100]\n",
    "\n",
    "res = list(filter(lambda n:n <= 50, number_list))\n",
    "print(res)"
   ]
  },
  {
   "cell_type": "code",
   "execution_count": 473,
   "id": "76e81d28",
   "metadata": {},
   "outputs": [
    {
     "name": "stdout",
     "output_type": "stream",
     "text": [
      "[5, [10, 15, [20, 25, [30, 35], 40], 3000], 3000]\n"
     ]
    }
   ],
   "source": [
    "# replacing a number to another one\n",
    "arr = [5, [10, 15, [20, 25, [30, 35], 40], 45], 45]\n",
    "\n",
    "num_search = 45\n",
    "num_replace = 3000\n",
    "\n",
    "def find_index(l):\n",
    "    i = 0\n",
    "    for n in l:\n",
    "        if isinstance(n, int):\n",
    "            if n == num_search:\n",
    "                l[i] = num_replace\n",
    "        else:\n",
    "            l[i] = find_index(l[i])\n",
    "        i += 1\n",
    "    return l\n",
    "\n",
    "arr = find_index(arr)       \n",
    "print(arr)"
   ]
  },
  {
   "cell_type": "markdown",
   "id": "c0f87934",
   "metadata": {},
   "source": [
    "# duplicate"
   ]
  },
  {
   "cell_type": "code",
   "execution_count": 399,
   "id": "aa444345",
   "metadata": {},
   "outputs": [
    {
     "name": "stdout",
     "output_type": "stream",
     "text": [
      "[10, 20, 20, 30, 30, 40, 60, 60, 70, 80, 80]\n",
      "duplicates: [20, 30, 60, 80]\n",
      "duplicates: [20, 30, 60, 80]\n"
     ]
    }
   ],
   "source": [
    "# filter duplicates\n",
    "arr = [10, 20, 60, 30, 20, 40, 30, 60, 70, 80, 80]\n",
    "arr.sort()\n",
    "dup_arr = []\n",
    "print(arr)\n",
    "for i,v in enumerate(arr[:-1]):\n",
    "    if arr[i] == arr[i+1]:\n",
    "        dup_arr.append(v)\n",
    "        \n",
    "print('duplicates:', dup_arr)\n",
    "\n",
    "# or take Counter items using collections library\n",
    "\n",
    "import collections\n",
    "\n",
    "dup_arr = [item for item, count in collections.Counter(arr).items() if count > 1]\n",
    "        \n",
    "print('duplicates:', dup_arr)"
   ]
  },
  {
   "cell_type": "markdown",
   "id": "75832c26",
   "metadata": {},
   "source": [
    "# dict reverse"
   ]
  },
  {
   "cell_type": "code",
   "execution_count": 376,
   "id": "d8300a40",
   "metadata": {},
   "outputs": [
    {
     "name": "stdout",
     "output_type": "stream",
     "text": [
      "{65: 'A', 66: 'B', 67: 'C', 68: 'D'}\n"
     ]
    }
   ],
   "source": [
    "ascii_dict = {'A': 65, 'B': 66, 'C': 67, 'D': 68}\n",
    "new_dict = {}\n",
    "for k, v in ascii_dict.items():\n",
    "    new_dict[v] = k\n",
    "# or new_dict = {value:key for key, value in ascii_dict.items()}\n",
    "print(new_dict)"
   ]
  },
  {
   "cell_type": "markdown",
   "id": "6fc25e40",
   "metadata": {},
   "source": [
    "# strings"
   ]
  },
  {
   "cell_type": "code",
   "execution_count": 354,
   "id": "5b7486a2",
   "metadata": {},
   "outputs": [
    {
     "name": "stdout",
     "output_type": "stream",
     "text": [
      "yM emaN si asseJ\n",
      "yM emaN si asseJ\n"
     ]
    }
   ],
   "source": [
    "string = 'My Name is Jessa'\n",
    "\n",
    "new_word_list = list( map(lambda x: list(reversed(x)) , string.split() ))\n",
    "print(\" \".join([\"\".join(s) for s in new_word_list]))\n",
    "\n",
    "#or\n",
    "\n",
    "# iterate list and reverse each word using ::-1\n",
    "new_word_list = [word[::-1] for word in string.split()]\n",
    "\n",
    "# joining the new list of words\n",
    "print(\" \".join(new_word_list))"
   ]
  },
  {
   "cell_type": "markdown",
   "id": "52431c6d",
   "metadata": {},
   "source": [
    "# filtering"
   ]
  },
  {
   "cell_type": "code",
   "execution_count": 456,
   "id": "9a8ee455",
   "metadata": {},
   "outputs": [
    {
     "name": "stdout",
     "output_type": "stream",
     "text": [
      "{'A': 65, 'C': 67, 'F': 70}\n"
     ]
    }
   ],
   "source": [
    "# Dictionary\n",
    "d = {'A': 65, 'B': 66, 'C': 67, 'D': 68, 'E': 69, 'F': 70}\n",
    "\n",
    "# Filter dict using following keys\n",
    "l = ['A', 'C', 'F']\n",
    "\n",
    "\n",
    "#res = {k:v for k,v in d.items() if k in l} \n",
    "res = {k:d[k] for k in l} \n",
    "print(res)"
   ]
  },
  {
   "cell_type": "markdown",
   "id": "911d1be6",
   "metadata": {},
   "source": [
    "# replace symbols with capitalize"
   ]
  },
  {
   "cell_type": "code",
   "execution_count": 55,
   "id": "878738b6",
   "metadata": {},
   "outputs": [
    {
     "name": "stdout",
     "output_type": "stream",
     "text": [
      "NickName\n"
     ]
    }
   ],
   "source": [
    "\n",
    "s = \"nick_name\"\n",
    "res = s.title().translate(s.maketrans(\"\", \"\", \"-_\"))\n",
    "print(res)"
   ]
  },
  {
   "cell_type": "markdown",
   "id": "2fefbf7c",
   "metadata": {},
   "source": [
    "# sorting"
   ]
  },
  {
   "cell_type": "code",
   "execution_count": null,
   "id": "5d3ac3cd",
   "metadata": {},
   "outputs": [],
   "source": [
    "numbers = [2, -3, 4, 5.2, 1, 5, 'a']\n",
    "res = sorted( n for n in numbers if isinstance(n, int) and n >=0 )\n",
    "\n",
    "print(res)"
   ]
  },
  {
   "cell_type": "code",
   "execution_count": 89,
   "id": "ff30f1d7",
   "metadata": {},
   "outputs": [
    {
     "name": "stdout",
     "output_type": "stream",
     "text": [
      "did Thi1s is2 3a T4est\n",
      "Thi1s is2 3a T4est did\n"
     ]
    }
   ],
   "source": [
    "s = \"is2 Thi1s T4est 3a did\"\n",
    "\n",
    "arr = sorted(s.split(), key=lambda e: [s for s in e if s.isnumeric()])\n",
    "print (\" \".join(arr))\n",
    "#or\n",
    "arr = sorted(s.split(), key=lambda e: sorted(e))\n",
    "print (\" \".join(arr))"
   ]
  },
  {
   "cell_type": "code",
   "execution_count": 626,
   "id": "deafbced",
   "metadata": {},
   "outputs": [
    {
     "name": "stdout",
     "output_type": "stream",
     "text": [
      "in   1 200 2 4 4 34 150\n",
      "out  1 2 200 4 4 150 34\n",
      "out2 1 2 200 4 4 150 34\n",
      "out3 1 2 200 4 4 150 34\n"
     ]
    }
   ],
   "source": [
    "#sort by digits sum\n",
    "import re\n",
    "string = \"1 200 2 4 4 34 150\"\n",
    "\n",
    "string = re.sub(\"[^0-9\\s]\", \"\", string)\n",
    "print(\"in  \",string)\n",
    "a = string.split()\n",
    "\n",
    "\n",
    "for i in range(len(a)-1):\n",
    "    for j in range(len(a)-i-1):\n",
    "        sum1 = sum(int(n) for n in a[j])\n",
    "        sum2 = sum(int(n) for n in a[j+1])\n",
    "        if sum1 == sum2:\n",
    "            a[j], a[j+1] = sorted([a[j], a[j+1]])\n",
    "        if sum1 > sum2:   \n",
    "            a[j], a[j+1] = a[j+1], a[j]\n",
    "            \n",
    "print(\"out \", \" \".join(a))\n",
    "\n",
    "# or\n",
    "\n",
    "res = ' '.join(sorted(sorted(string.split(' ')), key=lambda x: sum(int(c) for c in x)))\n",
    "print('out2', res)\n",
    "\n",
    "# or\n",
    "\n",
    "a.sort()\n",
    "output = {}\n",
    "for e in a:\n",
    "    output[e] = sum([int(c) for c in e])\n",
    "res = sorted(a, key=output.get)\n",
    "\n",
    "print(\"out3\", \" \".join(res))"
   ]
  },
  {
   "cell_type": "markdown",
   "id": "1990efd8",
   "metadata": {},
   "source": [
    "# objects"
   ]
  },
  {
   "cell_type": "code",
   "execution_count": 133,
   "id": "22b91971",
   "metadata": {},
   "outputs": [
    {
     "name": "stdout",
     "output_type": "stream",
     "text": [
      "2\n",
      "2\n"
     ]
    }
   ],
   "source": [
    "r = {\"flour\": 500, \"sugar\": 200, \"eggs\": 1}\n",
    "a = {\"flour\": 1200, \"sugar\": 1200, \"eggs\": 5, \"milk\": 200}\n",
    "d = (set(r) & set(a))\n",
    "m = min(a[k] // r[k] for k in d) if len(d) == len(r) else 0\n",
    "print(m)\n",
    "# or\n",
    "m = min(a.get(k, 0)//r[k] for k in r)\n",
    "print(m)"
   ]
  },
  {
   "cell_type": "markdown",
   "id": "262bc967",
   "metadata": {},
   "source": [
    "# calculator"
   ]
  },
  {
   "cell_type": "code",
   "execution_count": 255,
   "id": "ca9eb1ba",
   "metadata": {},
   "outputs": [
    {
     "name": "stdout",
     "output_type": "stream",
     "text": [
      "result: 2\n",
      "result: 2\n"
     ]
    }
   ],
   "source": [
    "def zero(v=0): return v.__call__(0) if hasattr(v, '__call__') else v\n",
    "def one(v=1): return v.__call__(1) if hasattr(v, '__call__') else v\n",
    "def two(v=2): return v.__call__(2) if hasattr(v, '__call__') else v\n",
    "def three(v=3): return v.__call__(3) if hasattr(v, '__call__') else v\n",
    "def four(v=4): return v.__call__(4) if hasattr(v, '__call__') else v\n",
    "def five(v=5): return v.__call__(5) if hasattr(v, '__call__') else v\n",
    "def six(v=6): return v.__call__(6) if hasattr(v, '__call__') else v\n",
    "def seven(v=7): return v.__call__(7) if hasattr(v, '__call__') else v\n",
    "def eight(v=8): return v.__call__(8) if hasattr(v, '__call__') else v\n",
    "def nine(v=9): return v.__call__(9) if hasattr(v, '__call__') else v\n",
    "\n",
    "def plus(v): return v.__radd__\n",
    "def minus(v): return v.__rsub__\n",
    "def times(v): return v.__rmul__\n",
    "def divided_by(v): return v.__rfloordiv__\n",
    "\n",
    "print('result:', two(divided_by(one())))\n",
    "\n",
    "# or\n",
    "\n",
    "# Number function generator\n",
    "def func(n): return lambda f=None: f(n) if f else n\n",
    "\n",
    "zero, one, two, three, four, five, six, seven, eight, nine = map(func, range(10))\n",
    "\n",
    "def plus(y): return lambda x: x+y\n",
    "def minus(y): return lambda x: x-y\n",
    "def times(y): return lambda x: x*y\n",
    "def divided_by(y): return lambda x: x//y\n",
    "\n",
    "print('result:', two(divided_by(one())))\n"
   ]
  },
  {
   "cell_type": "markdown",
   "id": "c311574d",
   "metadata": {},
   "source": [
    "# number's digits"
   ]
  },
  {
   "cell_type": "code",
   "execution_count": 273,
   "id": "f87bc63e",
   "metadata": {},
   "outputs": [
    {
     "name": "stdout",
     "output_type": "stream",
     "text": [
      "9\n",
      "9\n",
      "9\n"
     ]
    }
   ],
   "source": [
    "number = 9\n",
    "def digital_root(n):\n",
    "    string_number = str(n)\n",
    "\n",
    "    while len(string_number) > 1:\n",
    "        string_number = str(sum(int(d) for d in string_number))\n",
    "    return int(string_number)  \n",
    "\n",
    "print(digital_root(number))\n",
    "\n",
    "# or\n",
    "\n",
    "# recursion\n",
    "def digital_root(n):\n",
    "    return n if n < 10 else digital_root(sum(map(int,str(n))))\n",
    "\n",
    "print(digital_root(number))\n",
    "\n",
    "# or\n",
    "\n",
    "def digital_root(n):\n",
    "    return n%9 or 9\n",
    "\n",
    "print(digital_root(number))"
   ]
  },
  {
   "cell_type": "markdown",
   "id": "08106a4a",
   "metadata": {},
   "source": [
    "# Recursion"
   ]
  },
  {
   "cell_type": "code",
   "execution_count": 318,
   "id": "765feb19",
   "metadata": {},
   "outputs": [
    {
     "name": "stdout",
     "output_type": "stream",
     "text": [
      "n: 2 memo: {2: 1}\n",
      "n: 3 memo: {2: 1, 3: 2}\n",
      "cached 2 = 1\n",
      "n: 2 memo: {2: 1, 3: 2}\n",
      "n: 4 memo: {2: 1, 3: 2, 4: 3}\n",
      "cached 3 = 2\n",
      "n: 3 memo: {2: 1, 3: 2, 4: 3}\n",
      "n: 5 memo: {2: 1, 3: 2, 4: 3, 5: 5}\n",
      "cached 4 = 3\n",
      "n: 4 memo: {2: 1, 3: 2, 4: 3, 5: 5}\n",
      "n: 6 memo: {2: 1, 3: 2, 4: 3, 5: 5, 6: 8}\n",
      "8\n"
     ]
    }
   ],
   "source": [
    "def fibonacci(n, memo={}):\n",
    "\n",
    "    if n in [0, 1]:\n",
    "        return n\n",
    "    res = memo.get(n, None)\n",
    "    if res == None:\n",
    "        memo[n] = fibonacci(n - 1, memo) + fibonacci(n - 2, memo)\n",
    "    return memo[n]\n",
    "\n",
    "print(fibonacci(6))\n"
   ]
  },
  {
   "cell_type": "markdown",
   "id": "b9a57bb8",
   "metadata": {},
   "source": [
    "# files"
   ]
  },
  {
   "cell_type": "code",
   "execution_count": 366,
   "id": "be9b0733",
   "metadata": {},
   "outputs": [
    {
     "name": "stdout",
     "output_type": "stream",
     "text": [
      "Line1 line2 line3 line4 line5 \n"
     ]
    }
   ],
   "source": [
    "with open('sample.txt','r') as f:\n",
    "    formatted_text = f.read().replace(chr(10), ' ')\n",
    "    print(formatted_text)"
   ]
  },
  {
   "cell_type": "markdown",
   "id": "7c48f84b",
   "metadata": {},
   "source": [
    "# pyramid"
   ]
  },
  {
   "cell_type": "code",
   "execution_count": 452,
   "id": "2714c23f",
   "metadata": {},
   "outputs": [
    {
     "name": "stdout",
     "output_type": "stream",
     "text": [
      "23\n",
      "23\n",
      "[23]\n"
     ]
    }
   ],
   "source": [
    "prmd = [[3], [7, 4], [2, 4, 6], [8, 5, 9, 3]]\n",
    "\n",
    "for i in range(len(prmd)-1):\n",
    "    current_row = prmd[i]\n",
    "    next_row = prmd[i+1]\n",
    "    next_row[0] += current_row[0]\n",
    "    next_row[-1] += current_row[-1]\n",
    "\n",
    "    for j in range(len(current_row)-1):\n",
    "        next_row[j+1] += max(current_row[j],current_row[j+1])\n",
    "\n",
    "print(max(prmd[-1]))\n",
    "\n",
    "# or the best solving\n",
    "p = [[3], [7, 4], [2, 4, 6], [8, 5, 9, 3]]\n",
    "\n",
    "res = p.pop()\n",
    "while p:\n",
    "    tmp = p.pop()\n",
    "    res = [tmp[i] + max(res[i],res[i+1]) for i in range(len(tmp))] \n",
    "\n",
    "print(res.pop())\n",
    "\n",
    "# or with reduce\n",
    "from functools import reduce\n",
    "prmd = [[3], [7, 4], [2, 4, 6], [8, 5, 9, 3]]\n",
    "\n",
    "def func(x, y):\n",
    "    return [y[i] + max(x[i], x[i+1]) for i in range(len(y))]\n",
    "\n",
    "value = reduce(func, reversed(prmd))[0]\n",
    "\n",
    "print(value)"
   ]
  },
  {
   "cell_type": "markdown",
   "id": "611541ad",
   "metadata": {},
   "source": [
    "# Checking alphanumeric string as password i.e."
   ]
  },
  {
   "cell_type": "code",
   "execution_count": null,
   "id": "c7357bec",
   "metadata": {},
   "outputs": [],
   "source": [
    "import re\n",
    "\n",
    "pattern = re.compile('^[0-9a-zA-Z]+$')\n",
    "\n",
    "def alphanumeric(string):\n",
    "    return string is not None and string.isalnum()\n",
    "    # alternate: pattern.match(string) is not None\n"
   ]
  },
  {
   "cell_type": "markdown",
   "id": "19471b6b",
   "metadata": {},
   "source": [
    "# Unique search"
   ]
  },
  {
   "cell_type": "code",
   "execution_count": 496,
   "id": "d8d0a634",
   "metadata": {},
   "outputs": [
    {
     "name": "stdout",
     "output_type": "stream",
     "text": [
      "B\n"
     ]
    }
   ],
   "source": [
    "# need to find first unique symbol\n",
    "word = \"Basic Tests\"\n",
    "for s in word:\n",
    "    if word.lower().count(s.lower()) == 1:\n",
    "        first_unique = s\n",
    "        break\n",
    "print(first_unique)"
   ]
  },
  {
   "cell_type": "markdown",
   "id": "045910b2",
   "metadata": {},
   "source": [
    "# optimize route"
   ]
  },
  {
   "cell_type": "code",
   "execution_count": 567,
   "id": "a93ee28c",
   "metadata": {},
   "outputs": [
    {
     "name": "stdout",
     "output_type": "stream",
     "text": [
      "['EAST', 'NORTH', 'NORTH', 'WEST']\n"
     ]
    }
   ],
   "source": [
    "#arr = [\"NORTH\", \"WEST\", \"SOUTH\", \"EAST\"]\n",
    "#arr = ['NORTH', 'SOUTH', 'SOUTH', 'EAST', 'WEST', 'NORTH']\n",
    "arr = ['EAST', 'NORTH', 'NORTH', 'NORTH', 'NORTH', 'SOUTH', 'SOUTH', 'WEST']\n",
    "opposite_ways = {\"NORTH\":\"SOUTH\", \"SOUTH\": \"NORTH\", \"EAST\":\"WEST\", \"WEST\":\"EAST\"}\n",
    "\n",
    "i = 0\n",
    "while i < len(arr)-1: \n",
    "    if arr[i+1] == opposite_ways[arr[i]]:\n",
    "        del arr[i]\n",
    "        del arr[i]\n",
    "        i = 0\n",
    "    else:\n",
    "        i += 1\n",
    "\n",
    "\n",
    "print(arr)"
   ]
  },
  {
   "cell_type": "code",
   "execution_count": 632,
   "id": "a2e80483",
   "metadata": {},
   "outputs": [
    {
     "name": "stdout",
     "output_type": "stream",
     "text": [
      "False\n"
     ]
    }
   ],
   "source": [
    "print(bool(len(\"#\"[1:])))"
   ]
  },
  {
   "cell_type": "markdown",
   "id": "846700f1",
   "metadata": {},
   "source": [
    "# regex"
   ]
  },
  {
   "cell_type": "code",
   "execution_count": 715,
   "id": "a18292ff",
   "metadata": {},
   "outputs": [
    {
     "name": "stdout",
     "output_type": "stream",
     "text": [
      "foobar02\n",
      "foobar2\n"
     ]
    }
   ],
   "source": [
    "import re\n",
    "string = 'foobar01'\n",
    "\n",
    "n = 1\n",
    "str_num = re.search(r'\\d+$', string)\n",
    "if str_num:\n",
    "    n = int(str_num.group(0))+1\n",
    "    ls = str_num.span(0)[0]\n",
    "    ln = len(str_num.group(0))\n",
    "    s = string[:ls]+f'{n}'.rjust(ln, '0')\n",
    "    \n",
    "print(s)\n",
    "\n",
    "#or\n",
    "\n",
    "head = string.rstrip('0123456789')\n",
    "tail = string[len(head):]\n",
    "if tail == \"\":\n",
    "    s = string+\"1\"\n",
    "else:\n",
    "    s = head + f'{int(tail) + 1}'.zfill(len(tail))\n",
    "\n",
    "print(s)"
   ]
  },
  {
   "cell_type": "code",
   "execution_count": null,
   "id": "fd407a0a",
   "metadata": {},
   "outputs": [],
   "source": []
  }
 ],
 "metadata": {
  "kernelspec": {
   "display_name": "Python 3",
   "language": "python",
   "name": "python3"
  },
  "language_info": {
   "codemirror_mode": {
    "name": "ipython",
    "version": 3
   },
   "file_extension": ".py",
   "mimetype": "text/x-python",
   "name": "python",
   "nbconvert_exporter": "python",
   "pygments_lexer": "ipython3",
   "version": "3.8.8"
  }
 },
 "nbformat": 4,
 "nbformat_minor": 5
}
